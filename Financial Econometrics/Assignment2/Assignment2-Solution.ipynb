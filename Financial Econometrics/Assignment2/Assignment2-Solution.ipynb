{
  "nbformat": 4,
  "nbformat_minor": 0,
  "metadata": {
    "kernelspec": {
      "display_name": "Python 3",
      "language": "python",
      "name": "python3"
    },
    "language_info": {
      "codemirror_mode": {
        "name": "ipython",
        "version": 3
      },
      "file_extension": ".py",
      "mimetype": "text/x-python",
      "name": "python",
      "nbconvert_exporter": "python",
      "pygments_lexer": "ipython3",
      "version": "3.6.5"
    },
    "colab": {
      "name": "Copy of Assignment2.ipynb",
      "provenance": [],
      "collapsed_sections": [],
      "toc_visible": true
    }
  },
  "cells": [
    {
      "cell_type": "markdown",
      "metadata": {
        "id": "g6hlyZznvkgq"
      },
      "source": [
        "# Assignment 2: Time variation in correlations\n",
        "\n",
        "**Deadline**: Sunday 14 March, 23:59.\n",
        "\n",
        "Your notebook should not give errors when executed with `Run All`. Please submit your answers via [Canvas](https://canvas.uva.nl/courses/14457/assignments/104274).\n",
        "\n",
        "|**Name**|**Student ID**|**Email**|\n",
        "|:-------|:-------------|:--------|\n",
        "|        |              |         |\n",
        "|        |              |         |\n",
        "\n",
        "\n",
        "****Hand in the following:****\n",
        "* Your notebook. N.B. **click on `Kernel`-> `Restart & Run All`** before submitting, see notes.\n",
        "* A (printed) pdf version of your notebook. Tip: you can use `nbconvert` ([user guide](https://nbconvert.readthedocs.io/en/latest/)) for this, or simply print the webpage to pdf.\n",
        "\n",
        "****NOTES****:\n",
        "* The assignment is a partial stand-in for a final examination, so the usual rules regarding plagiarism and fraud apply, with all attendant consequences. Code found on the internet or elsewhere is not acceptable as a solution.\n",
        "* Before submitting your work, **click on `Kernel`-> `Restart & Run All`** and verify that your notebook produces the desired results and does not error.\n",
        "* If your function uses random numbers, then set the seed to 0 before calling it. This makes it much easier to grade the assignments (at least as long as the answer is correct).\n",
        "\n",
        "\n",
        "**Declaration of Originality**:\n",
        "\n",
        "By submitting these answers, we declare that\n",
        "1. We have read and understood the notes above.\n",
        "2. These solutions are solely our own work.\n",
        "3. We have not made these solutions available to any other student.\n",
        "\n"
      ]
    },
    {
      "cell_type": "code",
      "metadata": {
        "id": "Bi0lFfx8xSwu"
      },
      "source": [
        "import numpy as np\n",
        "import pandas as pd\n",
        "import statsmodels.api as sm\n",
        "%matplotlib inline\n",
        "import matplotlib.pyplot as plt\n",
        "!pip install pandas-datareader\n",
        "import pandas_datareader.data as web\n",
        "!sudo apt-get update\n",
        "!sudo apt-get install libgmp3-dev\n",
        "!sudo apt-get install libmpfr-dev\n",
        "import numpy as np\n",
        "import pandas as pd\n",
        "import pandas_datareader.data as web\n",
        "import matplotlib.pyplot as plt\n",
        "import statsmodels.api as sm\n",
        "import statsmodels.formula.api as smf\n",
        "import statsmodels.graphics.tsaplots as tsaplots\n",
        "from statsmodels.tsa.arima_model import ARMA\n",
        "from statsmodels.compat import lzip\n",
        "from scipy import stats\n",
        "import seaborn as sns\n",
        "!pip install arch\n",
        "from arch import arch_model"
      ],
      "execution_count": null,
      "outputs": []
    },
    {
      "cell_type": "code",
      "metadata": {
        "id": "dwyu77U1O3zu"
      },
      "source": [
        "import warnings # Optional\n",
        "warnings.filterwarnings('ignore') # Optional; Supresses warnings\n",
        "from rpy2 import robjects\n",
        "from rpy2.robjects import pandas2ri\n",
        "pandas2ri.activate()\n",
        "import rpy2.robjects.packages as rpackages\n",
        "# R package names\n",
        "packnames = ('rugarch', 'rmgarch', 'mgarchBEKK')  # Needs to be a list\n",
        "\n",
        "# Set up\n",
        "from rpy2.robjects.vectors import StrVector\n",
        "utils = rpackages.importr('utils')\n",
        "utils.chooseCRANmirror(ind=1) # select the first mirror in the list\n",
        "\n",
        "# Selectively install what needs to be install.\n",
        "names_to_install = [x for x in packnames if not rpackages.isinstalled(x)]\n",
        "if len(names_to_install) > 0:\n",
        "    utils.install_packages(StrVector(names_to_install))\n",
        "    \n",
        "print('Installed: ',names_to_install)\n",
        "\n",
        "base = rpackages.importr('base')\n",
        "utils = rpackages.importr('utils')  # Already done in previous cell, but in case we skip that one\n",
        "methods = rpackages.importr('methods')\n",
        "rugarch = rpackages.importr('rugarch')\n",
        "rmgarch = rpackages.importr('rmgarch')\n",
        "mgarchBEKK = rpackages.importr('mgarchBEKK')"
      ],
      "execution_count": null,
      "outputs": []
    },
    {
      "cell_type": "markdown",
      "metadata": {
        "id": "EzroN5j2vkha"
      },
      "source": [
        "---"
      ]
    },
    {
      "cell_type": "markdown",
      "metadata": {
        "id": "okEw_gOFvkhh"
      },
      "source": [
        "## Data\n",
        "\n",
        "Download daily *adjusted closing prices* on the Dow Jones Industrial Average (DJIA, symbol `^DJI` in Yahoo Finance), and *one* of its constituent stocks, for the period 02/01/2000$-$26/02/2021, from Yahoo Finance using `pandas-datareader`. \n",
        "Below is a list of tickers of the DJIA constituents, excluding those with missing data over the sample ([source](https://finance.yahoo.com/quote/%5EDJI/components?p=%5EDJI))."
      ]
    },
    {
      "cell_type": "code",
      "metadata": {
        "id": "_zfnhI5Tvkho"
      },
      "source": [
        "tickers = [\"AAPL\", \"AMGN\", \"AXP\", \"BA\", \"CAT\", \"CSCO\", \"CVX\", \"DIS\", \"GS\", \n",
        "            \"HD\", \"HON\", \"IBM\", \"INTC\", \"JNJ\", \"JPM\", \"KO\", \"MCD\", \"MMM\", \n",
        "            \"MSFT\", \"NKE\", \"PG\", \"TRV\", \"UNH\", \"VZ\", \"WBA\",\"WMT\"]\n",
        "start = pd.datetime(2000, 1, 2)\n",
        "end = pd.datetime(2021, 2, 26)\n",
        "aapl = web.DataReader('AAPL', 'yahoo', start, end)\n",
        "djia = web.DataReader('^DJI', 'yahoo', start, end)"
      ],
      "execution_count": null,
      "outputs": []
    },
    {
      "cell_type": "code",
      "metadata": {
        "id": "YG6J01_Q6hvQ"
      },
      "source": [
        "df = pd.DataFrame()\n",
        "# We use the adjusted closing price of each day\n",
        "df['log_aapl'] = np.log(aapl['Adj Close'])\n",
        "df['log_djia'] = np.log(djia['Adj Close'])\n",
        "df['diff_log_aapl'] = (df.log_aapl - df.log_aapl.shift(1))*100\n",
        "df['diff_log_djia'] = (df.log_djia - df.log_djia.shift(1))*100\n",
        "df.dropna(inplace=True)\n",
        "y1 = df.diff_log_aapl\n",
        "y2 = df.diff_log_djia"
      ],
      "execution_count": null,
      "outputs": []
    },
    {
      "cell_type": "markdown",
      "metadata": {
        "id": "6G1eFZfsvkhu"
      },
      "source": [
        "## Questions\n",
        "\n",
        "The assignment is to select one stock out of the constituents, and analyse the time-varying correlation of its daily return with the Dow Jones index daily returns, based on a DCC model and a BEKK model. Create the daily logreturns of the stock you selected (`y1`), and create the Dow Jones daily logreturns (`y2`).\n",
        "\n",
        "1. As a first step in building a DCC model, select and estimate suitable (univariate) GARCH models for `y1` and `y2`. That is, choose a specification for the conditional mean and conditional variance, estimate and test it, and extend the specification if necessary. <br>\n",
        "    Report the estimated final models, and some misspecification test to indicate the quality of the models. Avoid printing entire tables of correlograms and $Q$-statistics; only a few statistics with $p$-values, for a number of different lag lengths, will suffice. <br>\n",
        "    Next, construct the variance series and standardized residuals from the two models. Also, construct the conditional standard deviations (=volatilities) as the square roots of the variance series (`s1` and `s2`).\n",
        "\n",
        "2. Estimate the DCC model using R's `rmgarch` package. Check whether the estimates of the DCC parameters $\\alpha$ and $\\beta$ are positive; if not, try different starting values or numerical optimization settings.\n",
        "\n",
        "3. Estimate a BEKK model using R's `mgarchBEKK` package.\n",
        "\n",
        "4. Compare the volatilities and correlations (`rho`) of the two methods in line graphs. Do the two methods produce comparable outcomes? What are the main differences?\n",
        "\n",
        "5. Now test the adequacy of the two correlation estimates `rho_dcc` and `rho_bekk` (together with the corresponding volatility\n",
        "estimates), in two different ways.\n",
        "\n",
        "    1. Construct a test as indicated under equation (39) in Engle (2002). That is, construct the standardised errors `z1 = y1/s1` and `z2 = (y2/s2 - rho*y1/s1)/np.sqrt(1-rho^2)`, and run a regression of the square of `z2` on lagged squares and cross-products of `z1` and `z2`. Report the result of an $F$-test for the hypothesis that all coefficients in this regression are zero, for the two different choices of (`s1`, `s2`, `rho`). Which of the two alternative correlation models performs best in this test?\n",
        "\n",
        "    2. Construct a test as indicated under equations (40)$-$(41) in Engle (2002). That is, construct the 5% Value at Risk series for an equal-weighted portfolio ($w=\\frac{1}{2}$) from the volatilities and correlations, calculate the corresponding hit series, and run a regression of this hit on a constant, its own lags and the current VaR. Report again the result of an $F$-test that all coefficients are zero, for the two different methods. Which procedure performs best now?"
      ]
    },
    {
      "cell_type": "markdown",
      "metadata": {
        "id": "G9f0jTbwse1R"
      },
      "source": [
        "## References\r\n",
        "\r\n",
        "* Engle, R. (2002). Dynamic conditional correlation: A simple class of multivariate generalized autoregressive conditional heteroskedasticity models, *Journal of Business & Economic Statistics, 20*(3), 339-350. [[Link](https://www.jstor.org/stable/1392121?seq=1#page_scan_tab_contents)]"
      ]
    },
    {
      "cell_type": "markdown",
      "metadata": {
        "id": "jMq4lHlCql7c"
      },
      "source": [
        "## 1"
      ]
    },
    {
      "cell_type": "code",
      "metadata": {
        "id": "FT1vr6AW6SeM"
      },
      "source": [
        "def runGarch(series, params):\n",
        "  vol, p, o, q, dist, l = params\n",
        "  am = arch_model(series.dropna(), mean='AR', lags=l, vol=vol, p=p ,o=o, q=q, dist=dist)\n",
        "  res = am.fit()\n",
        "  return res\n",
        "\n",
        "def findGarch(series):\n",
        "  # parameters to check\n",
        "  vols = ['EGARCH', \"GARCH\"]\n",
        "  ps = [1,2]\n",
        "  os = [0,1,2]\n",
        "  qs = [0,1,2]\n",
        "  ls = [1,3,5,7,9]\n",
        "  dists = ['normal', 'skewt']\n",
        "\n",
        "  # Variables to store the best results\n",
        "  best_aic = np.inf \n",
        "  best_params = None\n",
        "  # Iteration number for progress printing\n",
        "  i = 0\n",
        "  for vol in vols:\n",
        "    for p in ps:\n",
        "      for o in os:\n",
        "        for q in qs:\n",
        "          for l in ls:\n",
        "            for dist in dists:\n",
        "              # Print progress\n",
        "              i = i+1\n",
        "              print(\"Iteration\", i, \"out of\", len(vols)*len(ps)*len(os)*len(qs)*len(ls)*len(dists))\n",
        "              # Fit an AR(l)-vol(p,o,q) model with dist as distribution for the innovation sequence\n",
        "              params = (vol, p, o, q, dist, l)\n",
        "              res = runGarch(series, params)\n",
        "              # Take the model with the best Akaike Information Coefficient\n",
        "              if res.aic < best_aic:\n",
        "                best_aic = res.aic\n",
        "                best_params = params\n",
        "  return best_params\n",
        "\n",
        "aapl_params = findGarch(df.diff_log_aapl)\n",
        "djia_params = findGarch(df.diff_log_djia)\n",
        "# print(aapl_params)\n",
        "# print(djia_params)\n",
        "# aapl_params = ('EGARCH', 2, 2, 1, 'skewt', 9)\n",
        "# djia_params = ('EGARCH', 2, 2, 1, 'skewt', 9)\n",
        "aapl_model = runGarch(df.diff_log_aapl, aapl_params)\n",
        "djia_model = runGarch(df.diff_log_djia, djia_params)"
      ],
      "execution_count": null,
      "outputs": []
    },
    {
      "cell_type": "code",
      "metadata": {
        "id": "GYoln1ps3bxh",
        "colab": {
          "base_uri": "https://localhost:8080/"
        },
        "outputId": "634bb0d5-9b98-4661-a8a9-f27bf756ca83"
      },
      "source": [
        "print(aapl_params)"
      ],
      "execution_count": null,
      "outputs": [
        {
          "output_type": "stream",
          "text": [
            "('EGARCH', 2, 2, 1, 'skewt', 9)\n"
          ],
          "name": "stdout"
        }
      ]
    },
    {
      "cell_type": "code",
      "metadata": {
        "id": "PjfXw9Qm3qGN",
        "colab": {
          "base_uri": "https://localhost:8080/"
        },
        "outputId": "4873f426-db52-4eed-fb4a-d0731c6acc46"
      },
      "source": [
        "print(djia_params)"
      ],
      "execution_count": null,
      "outputs": [
        {
          "output_type": "stream",
          "text": [
            "('EGARCH', 2, 2, 1, 'skewt', 9)\n"
          ],
          "name": "stdout"
        }
      ]
    },
    {
      "cell_type": "code",
      "metadata": {
        "colab": {
          "base_uri": "https://localhost:8080/",
          "height": 722
        },
        "id": "xS7xab_x_wos",
        "outputId": "24674184-cdb2-4ece-b70f-dab8934fd77f"
      },
      "source": [
        "aapl_model.summary()"
      ],
      "execution_count": null,
      "outputs": [
        {
          "output_type": "execute_result",
          "data": {
            "text/html": [
              "<table class=\"simpletable\">\n",
              "<caption>AR - EGARCH Model Results</caption>\n",
              "<tr>\n",
              "  <th>Dep. Variable:</th>         <td>diff_log_aapl</td>         <th>  R-squared:         </th>  <td>   0.003</td> \n",
              "</tr>\n",
              "<tr>\n",
              "  <th>Mean Model:</th>                 <td>AR</td>               <th>  Adj. R-squared:    </th>  <td>   0.001</td> \n",
              "</tr>\n",
              "<tr>\n",
              "  <th>Vol Model:</th>                <td>EGARCH</td>             <th>  Log-Likelihood:    </th> <td>  -11297.7</td>\n",
              "</tr>\n",
              "<tr>\n",
              "  <th>Distribution:</th>  <td>Standardized Skew Student's t</td> <th>  AIC:               </th> <td>   22631.3</td>\n",
              "</tr>\n",
              "<tr>\n",
              "  <th>Method:</th>             <td>Maximum Likelihood</td>       <th>  BIC:               </th> <td>   22749.7</td>\n",
              "</tr>\n",
              "<tr>\n",
              "  <th></th>                             <td></td>                <th>  No. Observations:  </th>    <td>5312</td>   \n",
              "</tr>\n",
              "<tr>\n",
              "  <th>Date:</th>                <td>Sat, Mar 13 2021</td>        <th>  Df Residuals:      </th>    <td>5302</td>   \n",
              "</tr>\n",
              "<tr>\n",
              "  <th>Time:</th>                    <td>00:02:23</td>            <th>  Df Model:          </th>     <td>10</td>    \n",
              "</tr>\n",
              "</table>\n",
              "<table class=\"simpletable\">\n",
              "<caption>Mean Model</caption>\n",
              "<tr>\n",
              "        <td></td>           <th>coef</th>      <th>std err</th>       <th>t</th>       <th>P>|t|</th>      <th>95.0% Conf. Int.</th>    \n",
              "</tr>\n",
              "<tr>\n",
              "  <th>Const</th>         <td>    0.1477</td>  <td>2.304e-02</td>  <td>    6.411</td> <td>1.445e-10</td>    <td>[  0.103,  0.193]</td>   \n",
              "</tr>\n",
              "<tr>\n",
              "  <th>diff...apl[1]</th> <td>   -0.0128</td>  <td>1.386e-02</td>  <td>   -0.921</td> <td>    0.357</td> <td>[-3.994e-02,1.441e-02]</td> \n",
              "</tr>\n",
              "<tr>\n",
              "  <th>diff...apl[2]</th> <td>-2.8764e-04</td> <td>1.399e-02</td> <td>-2.057e-02</td> <td>    0.984</td> <td>[-2.770e-02,2.712e-02]</td> \n",
              "</tr>\n",
              "<tr>\n",
              "  <th>diff...apl[3]</th> <td>-2.1487e-03</td> <td>1.404e-02</td>  <td>   -0.153</td> <td>    0.878</td> <td>[-2.966e-02,2.536e-02]</td> \n",
              "</tr>\n",
              "<tr>\n",
              "  <th>diff...apl[4]</th> <td>    0.0386</td>  <td>1.518e-02</td>  <td>    2.540</td> <td>1.109e-02</td>  <td>[8.802e-03,6.831e-02]</td> \n",
              "</tr>\n",
              "<tr>\n",
              "  <th>diff...apl[5]</th> <td>    0.0130</td>  <td>2.408e-03</td>  <td>    5.390</td> <td>7.056e-08</td>  <td>[8.258e-03,1.770e-02]</td> \n",
              "</tr>\n",
              "<tr>\n",
              "  <th>diff...apl[6]</th> <td>   -0.0128</td>  <td>1.371e-02</td>  <td>   -0.933</td> <td>    0.351</td> <td>[-3.965e-02,1.407e-02]</td> \n",
              "</tr>\n",
              "<tr>\n",
              "  <th>diff...apl[7]</th> <td>    0.0106</td>  <td>1.001e-02</td>  <td>    1.054</td> <td>    0.292</td> <td>[-9.069e-03,3.019e-02]</td> \n",
              "</tr>\n",
              "<tr>\n",
              "  <th>diff...apl[8]</th> <td>   -0.0325</td>  <td>1.414e-02</td>  <td>   -2.298</td> <td>2.154e-02</td> <td>[-6.020e-02,-4.785e-03]</td>\n",
              "</tr>\n",
              "<tr>\n",
              "  <th>diff...apl[9]</th> <td>7.7474e-03</td>  <td>1.478e-02</td>  <td>    0.524</td> <td>    0.600</td> <td>[-2.121e-02,3.671e-02]</td> \n",
              "</tr>\n",
              "</table>\n",
              "<table class=\"simpletable\">\n",
              "<caption>Volatility Model</caption>\n",
              "<tr>\n",
              "      <td></td>        <th>coef</th>     <th>std err</th>      <th>t</th>       <th>P>|t|</th>      <th>95.0% Conf. Int.</th>   \n",
              "</tr>\n",
              "<tr>\n",
              "  <th>omega</th>    <td>    0.0223</td> <td>7.946e-03</td> <td>    2.802</td> <td>5.074e-03</td>  <td>[6.693e-03,3.784e-02]</td>\n",
              "</tr>\n",
              "<tr>\n",
              "  <th>alpha[1]</th> <td>    0.2170</td> <td>3.537e-02</td> <td>    6.136</td> <td>8.446e-10</td>    <td>[  0.148,  0.286]</td>  \n",
              "</tr>\n",
              "<tr>\n",
              "  <th>alpha[2]</th> <td>   -0.0789</td> <td>4.174e-02</td> <td>   -1.889</td> <td>5.886e-02</td>   <td>[ -0.161,2.953e-03]</td> \n",
              "</tr>\n",
              "<tr>\n",
              "  <th>gamma[1]</th> <td>   -0.0749</td> <td>2.530e-02</td> <td>   -2.959</td> <td>3.082e-03</td>  <td>[ -0.124,-2.529e-02]</td> \n",
              "</tr>\n",
              "<tr>\n",
              "  <th>gamma[2]</th> <td>    0.0386</td> <td>2.917e-02</td> <td>    1.322</td> <td>    0.186</td> <td>[-1.862e-02,9.573e-02]</td>\n",
              "</tr>\n",
              "<tr>\n",
              "  <th>beta[1]</th>  <td>    0.9905</td> <td>4.067e-03</td> <td>  243.570</td>   <td>0.000</td>      <td>[  0.983,  0.998]</td>  \n",
              "</tr>\n",
              "</table>\n",
              "<table class=\"simpletable\">\n",
              "<caption>Distribution</caption>\n",
              "<tr>\n",
              "     <td></td>       <th>coef</th>     <th>std err</th>      <th>t</th>       <th>P>|t|</th>      <th>95.0% Conf. Int.</th>   \n",
              "</tr>\n",
              "<tr>\n",
              "  <th>nu</th>     <td>    4.9359</td> <td>    0.358</td> <td>   13.807</td> <td>2.323e-43</td>    <td>[  4.235,  5.637]</td>  \n",
              "</tr>\n",
              "<tr>\n",
              "  <th>lambda</th> <td>    0.0225</td> <td>1.949e-02</td> <td>    1.155</td> <td>    0.248</td> <td>[-1.568e-02,6.071e-02]</td>\n",
              "</tr>\n",
              "</table><br/><br/>Covariance estimator: robust"
            ],
            "text/plain": [
              "<class 'statsmodels.iolib.summary.Summary'>\n",
              "\"\"\"\n",
              "                                AR - EGARCH Model Results                                \n",
              "=========================================================================================\n",
              "Dep. Variable:                     diff_log_aapl   R-squared:                       0.003\n",
              "Mean Model:                                   AR   Adj. R-squared:                  0.001\n",
              "Vol Model:                                EGARCH   Log-Likelihood:               -11297.7\n",
              "Distribution:      Standardized Skew Student's t   AIC:                           22631.3\n",
              "Method:                       Maximum Likelihood   BIC:                           22749.7\n",
              "                                                   No. Observations:                 5312\n",
              "Date:                           Sat, Mar 13 2021   Df Residuals:                     5302\n",
              "Time:                                   00:02:23   Df Model:                           10\n",
              "                                    Mean Model                                    \n",
              "==================================================================================\n",
              "                     coef    std err          t      P>|t|        95.0% Conf. Int.\n",
              "----------------------------------------------------------------------------------\n",
              "Const              0.1477  2.304e-02      6.411  1.445e-10       [  0.103,  0.193]\n",
              "diff...apl[1]     -0.0128  1.386e-02     -0.921      0.357  [-3.994e-02,1.441e-02]\n",
              "diff...apl[2] -2.8764e-04  1.399e-02 -2.057e-02      0.984  [-2.770e-02,2.712e-02]\n",
              "diff...apl[3] -2.1487e-03  1.404e-02     -0.153      0.878  [-2.966e-02,2.536e-02]\n",
              "diff...apl[4]      0.0386  1.518e-02      2.540  1.109e-02   [8.802e-03,6.831e-02]\n",
              "diff...apl[5]      0.0130  2.408e-03      5.390  7.056e-08   [8.258e-03,1.770e-02]\n",
              "diff...apl[6]     -0.0128  1.371e-02     -0.933      0.351  [-3.965e-02,1.407e-02]\n",
              "diff...apl[7]      0.0106  1.001e-02      1.054      0.292  [-9.069e-03,3.019e-02]\n",
              "diff...apl[8]     -0.0325  1.414e-02     -2.298  2.154e-02 [-6.020e-02,-4.785e-03]\n",
              "diff...apl[9]  7.7474e-03  1.478e-02      0.524      0.600  [-2.121e-02,3.671e-02]\n",
              "                               Volatility Model                              \n",
              "=============================================================================\n",
              "                 coef    std err          t      P>|t|       95.0% Conf. Int.\n",
              "-----------------------------------------------------------------------------\n",
              "omega          0.0223  7.946e-03      2.802  5.074e-03  [6.693e-03,3.784e-02]\n",
              "alpha[1]       0.2170  3.537e-02      6.136  8.446e-10      [  0.148,  0.286]\n",
              "alpha[2]      -0.0789  4.174e-02     -1.889  5.886e-02    [ -0.161,2.953e-03]\n",
              "gamma[1]      -0.0749  2.530e-02     -2.959  3.082e-03   [ -0.124,-2.529e-02]\n",
              "gamma[2]       0.0386  2.917e-02      1.322      0.186 [-1.862e-02,9.573e-02]\n",
              "beta[1]        0.9905  4.067e-03    243.570      0.000      [  0.983,  0.998]\n",
              "                                 Distribution                                \n",
              "=============================================================================\n",
              "                 coef    std err          t      P>|t|       95.0% Conf. Int.\n",
              "-----------------------------------------------------------------------------\n",
              "nu             4.9359      0.358     13.807  2.323e-43      [  4.235,  5.637]\n",
              "lambda         0.0225  1.949e-02      1.155      0.248 [-1.568e-02,6.071e-02]\n",
              "=============================================================================\n",
              "\n",
              "Covariance estimator: robust\n",
              "\"\"\""
            ]
          },
          "metadata": {
            "tags": []
          },
          "execution_count": 30
        }
      ]
    },
    {
      "cell_type": "code",
      "metadata": {
        "colab": {
          "base_uri": "https://localhost:8080/",
          "height": 722
        },
        "id": "sEqukaDZHtS0",
        "outputId": "e1a38c6e-b744-4250-d5c5-c1a8021ae23b"
      },
      "source": [
        "djia_model.summary()"
      ],
      "execution_count": null,
      "outputs": [
        {
          "output_type": "execute_result",
          "data": {
            "text/html": [
              "<table class=\"simpletable\">\n",
              "<caption>AR - EGARCH Model Results</caption>\n",
              "<tr>\n",
              "  <th>Dep. Variable:</th>         <td>diff_log_djia</td>         <th>  R-squared:         </th>  <td>   0.012</td> \n",
              "</tr>\n",
              "<tr>\n",
              "  <th>Mean Model:</th>                 <td>AR</td>               <th>  Adj. R-squared:    </th>  <td>   0.010</td> \n",
              "</tr>\n",
              "<tr>\n",
              "  <th>Vol Model:</th>                <td>EGARCH</td>             <th>  Log-Likelihood:    </th> <td>  -6849.14</td>\n",
              "</tr>\n",
              "<tr>\n",
              "  <th>Distribution:</th>  <td>Standardized Skew Student's t</td> <th>  AIC:               </th> <td>   13734.3</td>\n",
              "</tr>\n",
              "<tr>\n",
              "  <th>Method:</th>             <td>Maximum Likelihood</td>       <th>  BIC:               </th> <td>   13852.7</td>\n",
              "</tr>\n",
              "<tr>\n",
              "  <th></th>                             <td></td>                <th>  No. Observations:  </th>    <td>5312</td>   \n",
              "</tr>\n",
              "<tr>\n",
              "  <th>Date:</th>                <td>Sat, Mar 13 2021</td>        <th>  Df Residuals:      </th>    <td>5302</td>   \n",
              "</tr>\n",
              "<tr>\n",
              "  <th>Time:</th>                    <td>00:02:24</td>            <th>  Df Model:          </th>     <td>10</td>    \n",
              "</tr>\n",
              "</table>\n",
              "<table class=\"simpletable\">\n",
              "<caption>Mean Model</caption>\n",
              "<tr>\n",
              "        <td></td>           <th>coef</th>      <th>std err</th>      <th>t</th>       <th>P>|t|</th>      <th>95.0% Conf. Int.</th>    \n",
              "</tr>\n",
              "<tr>\n",
              "  <th>Const</th>         <td>    0.0316</td>  <td>1.109e-02</td> <td>    2.853</td> <td>4.325e-03</td>  <td>[9.908e-03,5.338e-02]</td> \n",
              "</tr>\n",
              "<tr>\n",
              "  <th>diff...jia[1]</th> <td>   -0.0580</td>  <td>7.443e-03</td> <td>   -7.800</td> <td>6.211e-15</td> <td>[-7.264e-02,-4.346e-02]</td>\n",
              "</tr>\n",
              "<tr>\n",
              "  <th>diff...jia[2]</th> <td>   -0.0141</td>  <td>1.211e-02</td> <td>   -1.164</td> <td>    0.244</td> <td>[-3.782e-02,9.638e-03]</td> \n",
              "</tr>\n",
              "<tr>\n",
              "  <th>diff...jia[3]</th> <td>    0.0117</td>  <td>1.165e-02</td> <td>    1.003</td> <td>    0.316</td> <td>[-1.114e-02,3.451e-02]</td> \n",
              "</tr>\n",
              "<tr>\n",
              "  <th>diff...jia[4]</th> <td>-7.8892e-03</td> <td>1.049e-02</td> <td>   -0.752</td> <td>    0.452</td> <td>[-2.845e-02,1.268e-02]</td> \n",
              "</tr>\n",
              "<tr>\n",
              "  <th>diff...jia[5]</th> <td>   -0.0209</td>  <td>8.639e-03</td> <td>   -2.419</td> <td>1.556e-02</td> <td>[-3.783e-02,-3.967e-03]</td>\n",
              "</tr>\n",
              "<tr>\n",
              "  <th>diff...jia[6]</th> <td>   -0.0117</td>  <td>1.146e-02</td> <td>   -1.023</td> <td>    0.306</td> <td>[-3.418e-02,1.074e-02]</td> \n",
              "</tr>\n",
              "<tr>\n",
              "  <th>diff...jia[7]</th> <td>2.0316e-03</td>  <td>1.256e-02</td> <td>    0.162</td> <td>    0.871</td> <td>[-2.258e-02,2.664e-02]</td> \n",
              "</tr>\n",
              "<tr>\n",
              "  <th>diff...jia[8]</th> <td>1.6007e-03</td>  <td>9.715e-03</td> <td>    0.165</td> <td>    0.869</td> <td>[-1.744e-02,2.064e-02]</td> \n",
              "</tr>\n",
              "<tr>\n",
              "  <th>diff...jia[9]</th> <td>5.2972e-03</td>  <td>5.247e-03</td> <td>    1.010</td> <td>    0.313</td> <td>[-4.987e-03,1.558e-02]</td> \n",
              "</tr>\n",
              "</table>\n",
              "<table class=\"simpletable\">\n",
              "<caption>Volatility Model</caption>\n",
              "<tr>\n",
              "      <td></td>        <th>coef</th>     <th>std err</th>      <th>t</th>       <th>P>|t|</th>      <th>95.0% Conf. Int.</th>   \n",
              "</tr>\n",
              "<tr>\n",
              "  <th>omega</th>    <td>7.1431e-04</td> <td>3.010e-03</td> <td>    0.237</td> <td>    0.812</td> <td>[-5.186e-03,6.615e-03]</td>\n",
              "</tr>\n",
              "<tr>\n",
              "  <th>alpha[1]</th> <td>    0.0132</td> <td>3.720e-02</td> <td>    0.354</td> <td>    0.723</td> <td>[-5.974e-02,8.607e-02]</td>\n",
              "</tr>\n",
              "<tr>\n",
              "  <th>alpha[2]</th> <td>    0.1555</td> <td>3.636e-02</td> <td>    4.276</td> <td>1.901e-05</td>   <td>[8.423e-02,  0.227]</td> \n",
              "</tr>\n",
              "<tr>\n",
              "  <th>gamma[1]</th> <td>   -0.2040</td> <td>2.564e-02</td> <td>   -7.957</td> <td>1.765e-15</td>    <td>[ -0.254, -0.154]</td>  \n",
              "</tr>\n",
              "<tr>\n",
              "  <th>gamma[2]</th> <td>    0.0712</td> <td>2.658e-02</td> <td>    2.678</td> <td>7.417e-03</td>   <td>[1.907e-02,  0.123]</td> \n",
              "</tr>\n",
              "<tr>\n",
              "  <th>beta[1]</th>  <td>    0.9761</td> <td>3.753e-03</td> <td>  260.061</td>   <td>0.000</td>      <td>[  0.969,  0.983]</td>  \n",
              "</tr>\n",
              "</table>\n",
              "<table class=\"simpletable\">\n",
              "<caption>Distribution</caption>\n",
              "<tr>\n",
              "     <td></td>       <th>coef</th>     <th>std err</th>      <th>t</th>       <th>P>|t|</th>     <th>95.0% Conf. Int.</th>  \n",
              "</tr>\n",
              "<tr>\n",
              "  <th>nu</th>     <td>    7.1315</td> <td>    0.676</td> <td>   10.546</td> <td>5.328e-26</td>   <td>[  5.806,  8.457]</td> \n",
              "</tr>\n",
              "<tr>\n",
              "  <th>lambda</th> <td>   -0.1311</td> <td>1.762e-02</td> <td>   -7.444</td> <td>9.783e-14</td> <td>[ -0.166,-9.660e-02]</td>\n",
              "</tr>\n",
              "</table><br/><br/>Covariance estimator: robust"
            ],
            "text/plain": [
              "<class 'statsmodels.iolib.summary.Summary'>\n",
              "\"\"\"\n",
              "                                AR - EGARCH Model Results                                \n",
              "=========================================================================================\n",
              "Dep. Variable:                     diff_log_djia   R-squared:                       0.012\n",
              "Mean Model:                                   AR   Adj. R-squared:                  0.010\n",
              "Vol Model:                                EGARCH   Log-Likelihood:               -6849.14\n",
              "Distribution:      Standardized Skew Student's t   AIC:                           13734.3\n",
              "Method:                       Maximum Likelihood   BIC:                           13852.7\n",
              "                                                   No. Observations:                 5312\n",
              "Date:                           Sat, Mar 13 2021   Df Residuals:                     5302\n",
              "Time:                                   00:02:24   Df Model:                           10\n",
              "                                    Mean Model                                    \n",
              "==================================================================================\n",
              "                     coef    std err          t      P>|t|        95.0% Conf. Int.\n",
              "----------------------------------------------------------------------------------\n",
              "Const              0.0316  1.109e-02      2.853  4.325e-03   [9.908e-03,5.338e-02]\n",
              "diff...jia[1]     -0.0580  7.443e-03     -7.800  6.211e-15 [-7.264e-02,-4.346e-02]\n",
              "diff...jia[2]     -0.0141  1.211e-02     -1.164      0.244  [-3.782e-02,9.638e-03]\n",
              "diff...jia[3]      0.0117  1.165e-02      1.003      0.316  [-1.114e-02,3.451e-02]\n",
              "diff...jia[4] -7.8892e-03  1.049e-02     -0.752      0.452  [-2.845e-02,1.268e-02]\n",
              "diff...jia[5]     -0.0209  8.639e-03     -2.419  1.556e-02 [-3.783e-02,-3.967e-03]\n",
              "diff...jia[6]     -0.0117  1.146e-02     -1.023      0.306  [-3.418e-02,1.074e-02]\n",
              "diff...jia[7]  2.0316e-03  1.256e-02      0.162      0.871  [-2.258e-02,2.664e-02]\n",
              "diff...jia[8]  1.6007e-03  9.715e-03      0.165      0.869  [-1.744e-02,2.064e-02]\n",
              "diff...jia[9]  5.2972e-03  5.247e-03      1.010      0.313  [-4.987e-03,1.558e-02]\n",
              "                               Volatility Model                              \n",
              "=============================================================================\n",
              "                 coef    std err          t      P>|t|       95.0% Conf. Int.\n",
              "-----------------------------------------------------------------------------\n",
              "omega      7.1431e-04  3.010e-03      0.237      0.812 [-5.186e-03,6.615e-03]\n",
              "alpha[1]       0.0132  3.720e-02      0.354      0.723 [-5.974e-02,8.607e-02]\n",
              "alpha[2]       0.1555  3.636e-02      4.276  1.901e-05    [8.423e-02,  0.227]\n",
              "gamma[1]      -0.2040  2.564e-02     -7.957  1.765e-15      [ -0.254, -0.154]\n",
              "gamma[2]       0.0712  2.658e-02      2.678  7.417e-03    [1.907e-02,  0.123]\n",
              "beta[1]        0.9761  3.753e-03    260.061      0.000      [  0.969,  0.983]\n",
              "                                Distribution                               \n",
              "===========================================================================\n",
              "                 coef    std err          t      P>|t|     95.0% Conf. Int.\n",
              "---------------------------------------------------------------------------\n",
              "nu             7.1315      0.676     10.546  5.328e-26    [  5.806,  8.457]\n",
              "lambda        -0.1311  1.762e-02     -7.444  9.783e-14 [ -0.166,-9.660e-02]\n",
              "===========================================================================\n",
              "\n",
              "Covariance estimator: robust\n",
              "\"\"\""
            ]
          },
          "metadata": {
            "tags": []
          },
          "execution_count": 31
        }
      ]
    },
    {
      "cell_type": "markdown",
      "metadata": {
        "id": "n5GhnVF-78xz"
      },
      "source": [
        "For both time series, to the data we tried various hyperparameters for the AR-GARCH model and used the one with the best Akaike Information Criterion (AIC).  While getting a better (log) likelihood is better, it should be kept in mind that introducing additional parameters could lead to overfitting. The AIC makes a trade off between the log likelihood of the model and the number of parameters used. We ended up using "
      ]
    },
    {
      "cell_type": "code",
      "metadata": {
        "colab": {
          "base_uri": "https://localhost:8080/"
        },
        "id": "YP8Yj3fd-Cyr",
        "outputId": "98e38e69-d725-4ece-9db3-b5f7db076f13"
      },
      "source": [
        "def printPValues(model_res, params):\n",
        "  print('p-value for homoskedasticity (ARCH LM test)', sm.stats.diagnostic.het_arch(model_res.std_resid.dropna(), store=False, ddof=params[1]+params[2])[1])\n",
        "  print('p-value for white noise (Q-statistic) (5 lags)', sm.tsa.stattools.acf(model_res.std_resid.dropna(), nlags=5, qstat=True)[2][4])\n",
        "  print('p-value for white noise (Q-statistic) (15 lags)', sm.tsa.stattools.acf(model_res.std_resid.dropna(), nlags=15, qstat=True)[2][14])\n",
        "  print('p-value for white noise (Q-statistic) (30 lags)', sm.tsa.stattools.acf(model_res.std_resid.dropna(), nlags=30, qstat=True)[2][29])\n",
        "print('For AAPL:')\n",
        "printPValues(aapl_model, aapl_params)\n",
        "print('For DJIA:')\n",
        "printPValues(djia_model, djia_params)"
      ],
      "execution_count": null,
      "outputs": [
        {
          "output_type": "stream",
          "text": [
            "For AAPL:\n",
            "p-value for homoskedasticity (ARCH LM test) 0.9999986799736548\n",
            "p-value for white noise (Q-statistic) (5 lags) 0.900904946506863\n",
            "p-value for white noise (Q-statistic) (15 lags) 0.9977252894186308\n",
            "p-value for white noise (Q-statistic) (30 lags) 0.9788267771067727\n",
            "For DJIA:\n",
            "p-value for homoskedasticity (ARCH LM test) 0.6842834229130568\n",
            "p-value for white noise (Q-statistic) (5 lags) 0.45236701188193673\n",
            "p-value for white noise (Q-statistic) (15 lags) 0.1755821366908486\n",
            "p-value for white noise (Q-statistic) (30 lags) 0.2169038094615283\n"
          ],
          "name": "stdout"
        }
      ]
    },
    {
      "cell_type": "markdown",
      "metadata": {
        "id": "ROQQT4g5-EXy"
      },
      "source": [
        "We have printed the p-values of various tests for the standardized residuals that remain after the GARCH model. For testing homoscedasticity, we used the ARCH LM test on the standardized residuals of the fitted models. For both models, we saw that the p-value was very close to 1 indicating that we do not reject the null hypothesis of the standardized residuals being homoscedastic For testing whether it is white noise we used the Ljung Box statistic at 5, 10 and 30 lags. For both models, the p-value was higher than $0.10$ so we do not reject the null hypothesis. So we conclude from these statistics that the standardized residuals behave as homoskedastic white noise. \n",
        "\n",
        "\n",
        "In the graphs below we constructed the conditional variance, standardized residuals and conditional volatility based on the fitted models (for both AAPL and DJIA)."
      ]
    },
    {
      "cell_type": "code",
      "metadata": {
        "colab": {
          "base_uri": "https://localhost:8080/",
          "height": 1000
        },
        "id": "5dLw8WIzKkSU",
        "outputId": "bc596af3-a36b-4ca9-e3f0-4a83690bf0c5"
      },
      "source": [
        "# Plot the following:\n",
        "# - Conditional variance\n",
        "# - Standardized residuals\n",
        "# - Conditional volatility (i.e. standard deviation)\n",
        "def constructThings(model_res, params, name):\n",
        "  conditional_variance = model_res.conditional_volatility ** 2\n",
        "  conditional_variance.plot()\n",
        "  plt.title('Conditional variance (%s)' % name)\n",
        "  plt.show()\n",
        "  standardized_residuals = model_res.std_resid\n",
        "  standardized_residuals.plot()\n",
        "  plt.title('Standardized residuals (%s)' % name)\n",
        "  plt.show()\n",
        "  conditional_volatility = np.sqrt(conditional_variance)\n",
        "  conditional_volatility.plot()\n",
        "  plt.title('Conditional volatility (%s)' % name)\n",
        "  plt.show()\n",
        "  \n",
        "constructThings(aapl_model, aapl_params, 'aapl')\n",
        "constructThings(djia_model, djia_model, 'Dow-Jones')\n",
        "s1 = aapl_model.conditional_volatility\n",
        "s2 = djia_model.conditional_volatility"
      ],
      "execution_count": null,
      "outputs": [
        {
          "output_type": "display_data",
          "data": {
            "image/png": "[encoded data removed]",
            "text/plain": [
              "<Figure size 432x288 with 1 Axes>"
            ]
          },
          "metadata": {
            "tags": [],
            "needs_background": "light"
          }
        },
        {
          "output_type": "display_data",
          "data": {
            "image/png": "[encoded data removed]",
            "text/plain": [
              "<Figure size 432x288 with 1 Axes>"
            ]
          },
          "metadata": {
            "tags": [],
            "needs_background": "light"
          }
        },
        {
          "output_type": "display_data",
          "data": {
            "image/png": "[encoded data removed]",
            "text/plain": [
              "<Figure size 432x288 with 1 Axes>"
            ]
          },
          "metadata": {
            "tags": [],
            "needs_background": "light"
          }
        },
        {
          "output_type": "display_data",
          "data": {
            "image/png": "[encoded data removed]",
            "text/plain": [
              "<Figure size 432x288 with 1 Axes>"
            ]
          },
          "metadata": {
            "tags": [],
            "needs_background": "light"
          }
        },
        {
          "output_type": "display_data",
          "data": {
            "image/png": "[encoded data removed]",
            "text/plain": [
              "<Figure size 432x288 with 1 Axes>"
            ]
          },
          "metadata": {
            "tags": [],
            "needs_background": "light"
          }
        },
        {
          "output_type": "display_data",
          "data": {
            "image/png": "[encoded data removed]",
            "text/plain": [
              "<Figure size 432x288 with 1 Axes>"
            ]
          },
          "metadata": {
            "tags": [],
            "needs_background": "light"
          }
        }
      ]
    },
    {
      "cell_type": "markdown",
      "metadata": {
        "id": "cuHXYJV_v24x"
      },
      "source": [
        "We extracted the variance, the standardized residuals and the conditional volatility from both models, and plotted them above. We then constructed the conditional standard deviviation from both models s1 (aapl), and s2 (djia)."
      ]
    },
    {
      "cell_type": "markdown",
      "metadata": {
        "id": "CeINOCn5v3qp"
      },
      "source": [
        "##2"
      ]
    },
    {
      "cell_type": "code",
      "metadata": {
        "id": "cW_pjfxvOMJr"
      },
      "source": [
        "y1_r = pandas2ri.py2rpy(y1)   # Transfrom to R dataframe\n",
        "y1_r = robjects.r.matrix(y1_r, nrow=len(y1_r))  # R matrix, need to specify number of rows\n",
        "y2_r = pandas2ri.py2rpy(y2)   # Transfrom to R dataframe\n",
        "y2_r = robjects.r.matrix(y2_r, nrow=len(y2_r))  # R matrix, need to specify number of rows"
      ],
      "execution_count": null,
      "outputs": []
    },
    {
      "cell_type": "code",
      "metadata": {
        "id": "gaB_qG5Wa_NZ"
      },
      "source": [
        "# ARMA(9,1)-EGARCH(2,2)\n",
        "armaorder = robjects.r.matrix(robjects.FloatVector([9,1]), nrow=1)  # a 1x2 R matrix\n",
        "meanModel = robjects.ListVector({'armaOrder': armaorder, 'include.mean': True})\n",
        "garchorder = robjects.r.matrix(robjects.FloatVector([2,2]), nrow=1)  # a 1x2 R matrix\n",
        "varianceModel = robjects.ListVector({'model': 'eGARCH', 'garchOrder': garchorder})\n",
        "garchspec_r = rugarch.ugarchspec(mean_model = meanModel, variance_model=varianceModel, distribution_model='norm')\n",
        "uspec = rugarch.multispec([garchspec_r, garchspec_r])  # Use the spec object\n",
        "dcc_spec = rmgarch.dccspec(uspec, model='DCC', distribution='mvnorm')  # DCC model specification\n",
        "Y_r = base.cbind(y1_r, y2_r)\n",
        "dcc_fit = rmgarch.dccfit(dcc_spec, data=Y_r)"
      ],
      "execution_count": null,
      "outputs": []
    },
    {
      "cell_type": "code",
      "metadata": {
        "colab": {
          "base_uri": "https://localhost:8080/"
        },
        "id": "gQ_fqXfUdZ4C",
        "outputId": "05b0852e-25a6-42d1-e605-6bda219d5434"
      },
      "source": [
        "print(methods.show(dcc_fit))  # Print output\n",
        "print(base.attributes(dcc_fit.slots['model'])[0])  # Output under 'model'\n",
        "print(base.attributes(dcc_fit.slots['mfit'])[0])  # Output under 'mfit'\n"
      ],
      "execution_count": null,
      "outputs": [
        {
          "output_type": "stream",
          "text": [
            "\n",
            "*---------------------------------*\n",
            "*          DCC GARCH Fit          *\n",
            "*---------------------------------*\n",
            "\n",
            "Distribution         :  mvnorm\n",
            "Model                :  DCC(1,1)\n",
            "No. Parameters       :  39\n",
            "[VAR GARCH DCC UncQ] : [0+36+2+1]\n",
            "No. Series           :  2\n",
            "No. Obs.             :  5321\n",
            "Log-Likelihood       :  -17877.51\n",
            "Av.Log-Likelihood    :  -3.36 \n",
            "\n",
            "Optimal Parameters\n",
            "-----------------------------------\n",
            "                  Estimate  Std. Error     t value Pr(>|t|)\n",
            "[Asset_1].mu      0.158675    0.021055    7.536230 0.000000\n",
            "[Asset_1].ar1    -0.677824    0.006563 -103.280639 0.000000\n",
            "[Asset_1].ar2     0.000271    0.000284    0.953814 0.340178\n",
            "[Asset_1].ar3    -0.021859    0.004560   -4.794162 0.000002\n",
            "[Asset_1].ar4     0.030864    0.006478    4.764080 0.000002\n",
            "[Asset_1].ar5     0.050603    0.006571    7.700763 0.000000\n",
            "[Asset_1].ar6    -0.003476    0.001526   -2.278462 0.022699\n",
            "[Asset_1].ar7     0.005880    0.003933    1.494976 0.134921\n",
            "[Asset_1].ar8    -0.036501    0.008931   -4.087110 0.000044\n",
            "[Asset_1].ar9    -0.039619    0.008191   -4.836727 0.000001\n",
            "[Asset_1].ma1     0.680414    0.006464  105.254407 0.000000\n",
            "[Asset_1].omega   0.089434    0.024282    3.683087 0.000230\n",
            "[Asset_1].alpha1 -0.015210    0.026295   -0.578439 0.562968\n",
            "[Asset_1].alpha2 -0.095014    0.030513   -3.113907 0.001846\n",
            "[Asset_1].beta1   0.169077    0.012278   13.770872 0.000000\n",
            "[Asset_1].beta2   0.787733    0.003162  249.140616 0.000000\n",
            "[Asset_1].gamma1  0.230128    0.068459    3.361549 0.000775\n",
            "[Asset_1].gamma2  0.144803    0.039242    3.690001 0.000224\n",
            "[Asset_2].mu      0.020909    0.008335    2.508572 0.012122\n",
            "[Asset_2].ar1     0.758289    0.032332   23.453273 0.000000\n",
            "[Asset_2].ar2     0.049308    0.012083    4.080640 0.000045\n",
            "[Asset_2].ar3     0.005538    0.002632    2.103980 0.035380\n",
            "[Asset_2].ar4    -0.002440    0.001573   -1.551517 0.120778\n",
            "[Asset_2].ar5    -0.021914    0.007019   -3.122276 0.001795\n",
            "[Asset_2].ar6    -0.000021    0.000181   -0.117219 0.906687\n",
            "[Asset_2].ar7     0.015768    0.009418    1.674299 0.094072\n",
            "[Asset_2].ar8     0.000760    0.001013    0.750751 0.452802\n",
            "[Asset_2].ar9     0.009594    0.004372    2.194209 0.028220\n",
            "[Asset_2].ma1    -0.799755    0.029516  -27.095978 0.000000\n",
            "[Asset_2].omega  -0.000174    0.005413   -0.032215 0.974301\n",
            "[Asset_2].alpha1 -0.125795    0.019902   -6.320746 0.000000\n",
            "[Asset_2].alpha2 -0.131243    0.021788   -6.023732 0.000000\n",
            "[Asset_2].beta1   0.181568    0.004551   39.893044 0.000000\n",
            "[Asset_2].beta2   0.767547    0.004485  171.155356 0.000000\n",
            "[Asset_2].gamma1  0.124305    0.029065    4.276837 0.000019\n",
            "[Asset_2].gamma2  0.190924    0.031935    5.978466 0.000000\n",
            "[Joint]dcca1      0.030010    0.011302    2.655363 0.007922\n",
            "[Joint]dccb1      0.953735    0.021322   44.731010 0.000000\n",
            "\n",
            "Information Criteria\n",
            "---------------------\n",
            "                   \n",
            "Akaike       6.7343\n",
            "Bayes        6.7825\n",
            "Shibata      6.7342\n",
            "Hannan-Quinn 6.7511\n",
            "\n",
            "\n",
            "Elapsed time : 27.68727 \n",
            "\n",
            "\n",
            "*---------------------------------*\n",
            "*          DCC GARCH Fit          *\n",
            "*---------------------------------*\n",
            "\n",
            "Distribution         :  mvnorm\n",
            "Model                :  DCC(1,1)\n",
            "No. Parameters       :  39\n",
            "[VAR GARCH DCC UncQ] : [0+36+2+1]\n",
            "No. Series           :  2\n",
            "No. Obs.             :  5321\n",
            "Log-Likelihood       :  -17877.51\n",
            "Av.Log-Likelihood    :  -3.36 \n",
            "\n",
            "Optimal Parameters\n",
            "-----------------------------------\n",
            "                  Estimate  Std. Error     t value Pr(>|t|)\n",
            "[Asset_1].mu      0.158675    0.021055    7.536230 0.000000\n",
            "[Asset_1].ar1    -0.677824    0.006563 -103.280639 0.000000\n",
            "[Asset_1].ar2     0.000271    0.000284    0.953814 0.340178\n",
            "[Asset_1].ar3    -0.021859    0.004560   -4.794162 0.000002\n",
            "[Asset_1].ar4     0.030864    0.006478    4.764080 0.000002\n",
            "[Asset_1].ar5     0.050603    0.006571    7.700763 0.000000\n",
            "[Asset_1].ar6    -0.003476    0.001526   -2.278462 0.022699\n",
            "[Asset_1].ar7     0.005880    0.003933    1.494976 0.134921\n",
            "[Asset_1].ar8    -0.036501    0.008931   -4.087110 0.000044\n",
            "[Asset_1].ar9    -0.039619    0.008191   -4.836727 0.000001\n",
            "[Asset_1].ma1     0.680414    0.006464  105.254407 0.000000\n",
            "[Asset_1].omega   0.089434    0.024282    3.683087 0.000230\n",
            "[Asset_1].alpha1 -0.015210    0.026295   -0.578439 0.562968\n",
            "[Asset_1].alpha2 -0.095014    0.030513   -3.113907 0.001846\n",
            "[Asset_1].beta1   0.169077    0.012278   13.770872 0.000000\n",
            "[Asset_1].beta2   0.787733    0.003162  249.140616 0.000000\n",
            "[Asset_1].gamma1  0.230128    0.068459    3.361549 0.000775\n",
            "[Asset_1].gamma2  0.144803    0.039242    3.690001 0.000224\n",
            "[Asset_2].mu      0.020909    0.008335    2.508572 0.012122\n",
            "[Asset_2].ar1     0.758289    0.032332   23.453273 0.000000\n",
            "[Asset_2].ar2     0.049308    0.012083    4.080640 0.000045\n",
            "[Asset_2].ar3     0.005538    0.002632    2.103980 0.035380\n",
            "[Asset_2].ar4    -0.002440    0.001573   -1.551517 0.120778\n",
            "[Asset_2].ar5    -0.021914    0.007019   -3.122276 0.001795\n",
            "[Asset_2].ar6    -0.000021    0.000181   -0.117219 0.906687\n",
            "[Asset_2].ar7     0.015768    0.009418    1.674299 0.094072\n",
            "[Asset_2].ar8     0.000760    0.001013    0.750751 0.452802\n",
            "[Asset_2].ar9     0.009594    0.004372    2.194209 0.028220\n",
            "[Asset_2].ma1    -0.799755    0.029516  -27.095978 0.000000\n",
            "[Asset_2].omega  -0.000174    0.005413   -0.032215 0.974301\n",
            "[Asset_2].alpha1 -0.125795    0.019902   -6.320746 0.000000\n",
            "[Asset_2].alpha2 -0.131243    0.021788   -6.023732 0.000000\n",
            "[Asset_2].beta1   0.181568    0.004551   39.893044 0.000000\n",
            "[Asset_2].beta2   0.767547    0.004485  171.155356 0.000000\n",
            "[Asset_2].gamma1  0.124305    0.029065    4.276837 0.000019\n",
            "[Asset_2].gamma2  0.190924    0.031935    5.978466 0.000000\n",
            "[Joint]dcca1      0.030010    0.011302    2.655363 0.007922\n",
            "[Joint]dccb1      0.953735    0.021322   44.731010 0.000000\n",
            "\n",
            "Information Criteria\n",
            "---------------------\n",
            "                   \n",
            "Akaike       6.7343\n",
            "Bayes        6.7825\n",
            "Shibata      6.7342\n",
            "Hannan-Quinn 6.7511\n",
            "\n",
            "\n",
            "Elapsed time : 27.68727 \n",
            "\n",
            "\n",
            " [1] \"modelinc\"      \"modeldesc\"     \"modeldata\"     \"varmodel\"     \n",
            " [5] \"pars\"          \"start.pars\"    \"fixed.pars\"    \"maxgarchOrder\"\n",
            " [9] \"maxdccOrder\"   \"pos.matrix\"    \"pidx\"          \"DCC\"          \n",
            "[13] \"mu\"            \"residuals\"     \"sigma\"         \"mpars\"        \n",
            "[17] \"ipars\"         \"midx\"          \"eidx\"          \"umodel\"       \n",
            "\n",
            " [1] \"coef\"            \"matcoef\"         \"garchnames\"      \"dccnames\"       \n",
            " [5] \"cvar\"            \"scores\"          \"R\"               \"H\"              \n",
            " [9] \"Q\"               \"stdresid\"        \"llh\"             \"log.likelihoods\"\n",
            "[13] \"timer\"           \"convergence\"     \"Nbar\"            \"Qbar\"           \n",
            "[17] \"plik\"           \n",
            "\n"
          ],
          "name": "stdout"
        }
      ]
    },
    {
      "cell_type": "markdown",
      "metadata": {
        "id": "4M3P6XdLxrJe"
      },
      "source": [
        "We fiited a DCC using the the parameters estimated in part 1). The parameters alpha and beta we obtainedfrom the model are the following:\r\n",
        "\\begin{align*}\r\n",
        "\\alpha&= 0.030010\\\\\r\n",
        "\\beta&= 0.953735\r\n",
        "\\end{align*}\r\n",
        "Note that this parameters are positive making $\\Sigma_t$ positive definite.\r\n",
        "The model has mean-reverting correlations as $\\alpha$ + $\\beta$ < 1. "
      ]
    },
    {
      "cell_type": "markdown",
      "metadata": {
        "id": "bu2m9rgL7-O4"
      },
      "source": [
        "##3"
      ]
    },
    {
      "cell_type": "code",
      "metadata": {
        "id": "Tdp_6O3CfY-8"
      },
      "source": [
        "s_dcc = rugarch.sigma(dcc_fit)  # Note that this is an rugarch method\n",
        "s_dcc = pd.DataFrame(s_dcc, index=df.index, columns=['s1 (DCC)','s2 (DCC)'])  # Convert to pandas DataFrame"
      ],
      "execution_count": null,
      "outputs": []
    },
    {
      "cell_type": "code",
      "metadata": {
        "id": "zn7A2Ex7f7QE"
      },
      "source": [
        "bekk_fit = mgarchBEKK.BEKK(Y_r,method=\"Nelder-Mead\")"
      ],
      "execution_count": null,
      "outputs": []
    },
    {
      "cell_type": "code",
      "metadata": {
        "id": "cftjk81a9o49",
        "colab": {
          "base_uri": "https://localhost:8080/"
        },
        "outputId": "e9b87914-0899-4795-ceac-995a09b5a90e"
      },
      "source": [
        "print(bekk_fit.rx('est.params'))"
      ],
      "execution_count": null,
      "outputs": [
        {
          "output_type": "stream",
          "text": [
            "$est.params\n",
            "$est.params$`1`\n",
            "         [,1]       [,2]\n",
            "[1,] 1.313912 -0.2880730\n",
            "[2,] 0.000000  0.2534199\n",
            "\n",
            "$est.params$`2`\n",
            "           [,1]       [,2]\n",
            "[1,]  0.1896073 0.24278479\n",
            "[2,] -0.1417066 0.04024274\n",
            "\n",
            "$est.params$`3`\n",
            "          [,1]       [,2]\n",
            "[1,] 0.7422764 0.02899748\n",
            "[2,] 0.5822842 0.77609737\n",
            "\n",
            "\n",
            "\n"
          ],
          "name": "stdout"
        }
      ]
    },
    {
      "cell_type": "markdown",
      "metadata": {
        "id": "w5p8l01G8D8D"
      },
      "source": [
        "We fitted a BEKK model using the default BEKK(1,1)."
      ]
    },
    {
      "cell_type": "markdown",
      "metadata": {
        "id": "O0etp-iK8l14"
      },
      "source": [
        "##4"
      ]
    },
    {
      "cell_type": "code",
      "metadata": {
        "id": "mYQrOfWm8ugr",
        "colab": {
          "base_uri": "https://localhost:8080/"
        },
        "outputId": "15356728-6b0f-4192-fea1-090b7124371c"
      },
      "source": [
        "s_dcc = rugarch.sigma(dcc_fit)  # Note that this is an rugarch method\r\n",
        "s_dcc = pd.DataFrame(s_dcc, index=df.index, columns=['s1 (DCC)','s2 (DCC)'])  # Convert to pandas DataFrame\r\n",
        "rho_dcc_r = rmgarch.rcor(dcc_fit)[0,1,:]\r\n",
        "rho_dcc = pd.Series(rho_dcc_r, index=df.index, name='rho')\r\n",
        "print(s_dcc)\r\n",
        "print(rho_dcc)"
      ],
      "execution_count": null,
      "outputs": [
        {
          "output_type": "stream",
          "text": [
            "            s1 (DCC)  s2 (DCC)\n",
            "Date                          \n",
            "2000-01-04  2.651986  1.200090\n",
            "2000-01-05  2.651986  1.200090\n",
            "2000-01-06  3.637379  1.149356\n",
            "2000-01-07  3.336220  1.066456\n",
            "2000-01-10  4.752246  0.946991\n",
            "...              ...       ...\n",
            "2021-02-22  1.900399  0.632229\n",
            "2021-02-23  2.132662  0.592677\n",
            "2021-02-24  2.127574  0.561346\n",
            "2021-02-25  1.954962  0.462251\n",
            "2021-02-26  2.371221  0.860450\n",
            "\n",
            "[5321 rows x 2 columns]\n",
            "Date\n",
            "2000-01-04    0.493040\n",
            "2000-01-05    0.608349\n",
            "2000-01-06    0.609226\n",
            "2000-01-07    0.488068\n",
            "2000-01-10    0.516795\n",
            "                ...   \n",
            "2021-02-22    0.357876\n",
            "2021-02-23    0.335109\n",
            "2021-02-24    0.337800\n",
            "2021-02-25    0.286528\n",
            "2021-02-26    0.425644\n",
            "Name: rho, Length: 5321, dtype: float64\n"
          ],
          "name": "stdout"
        }
      ]
    },
    {
      "cell_type": "code",
      "metadata": {
        "id": "KQVlInpffwbs"
      },
      "source": [
        "s1_bekk = pd.Series(bekk_fit.rx2('sd')[0], index=df.index, name='s1')\n",
        "s2_bekk = pd.Series(bekk_fit.rx2('sd')[1], index=df.index, name='s2')\n",
        "rho_bekk = pd.Series(bekk_fit.rx2('cor')[1][0], index=df.index, name='rho')"
      ],
      "execution_count": null,
      "outputs": []
    },
    {
      "cell_type": "markdown",
      "metadata": {
        "id": "I2DwZFn6AEuG"
      },
      "source": [
        "We extracted the volatilies of both assets in both the DCC and BEKK models. Furthermore we also extracted the correlations (rho) results from both models.  "
      ]
    },
    {
      "cell_type": "code",
      "metadata": {
        "colab": {
          "base_uri": "https://localhost:8080/",
          "height": 777
        },
        "id": "-6N_Zk7QfUzl",
        "outputId": "6f52ecce-5a4e-4b68-ef73-f6e1f2526316"
      },
      "source": [
        "s1_df = pd.DataFrame()\n",
        "s1_df['s1 (BEKK)'] = s1_bekk\n",
        "s1_df[['s1 (DCC)']] = s_dcc[['s1 (DCC)']]\n",
        "s2_df =  pd.DataFrame()\n",
        "s2_df ['s2 (BEKK)'] = s2_bekk\n",
        "s2_df[['s2 (DCC)']]= s_dcc [['s2 (DCC)']]\n",
        "# Plot S_1 from both models\n",
        "s1_df.plot(alpha=0.5)\n",
        "plt.ylim([-1, 32])\n",
        "plt.show()\n",
        "#Plot S_2 from both models\n",
        "s2_df.plot(alpha=0.5)\n",
        "plt.ylim([-1, 32])\n",
        "plt.show()\n",
        "rho_df = pd.DataFrame()\n",
        "rho_df['rho (BEKK)'] = rho_bekk\n",
        "rho_df['rho (DCC)'] = rho_dcc\n",
        "rho_df.plot(alpha=0.5)\n",
        "plt.ylim([-1, 1])\n",
        "plt.show()\n"
      ],
      "execution_count": null,
      "outputs": [
        {
          "output_type": "display_data",
          "data": {
            "image/png": "[encoded data removed]",
            "text/plain": [
              "<Figure size 432x288 with 1 Axes>"
            ]
          },
          "metadata": {
            "tags": [],
            "needs_background": "light"
          }
        },
        {
          "output_type": "display_data",
          "data": {
            "image/png": "[encoded data removed]",
            "text/plain": [
              "<Figure size 432x288 with 1 Axes>"
            ]
          },
          "metadata": {
            "tags": [],
            "needs_background": "light"
          }
        },
        {
          "output_type": "display_data",
          "data": {
            "image/png": "[encoded data removed]",
            "text/plain": [
              "<Figure size 432x288 with 1 Axes>"
            ]
          },
          "metadata": {
            "tags": [],
            "needs_background": "light"
          }
        }
      ]
    },
    {
      "cell_type": "markdown",
      "metadata": {
        "id": "Ij_VgOmyAial"
      },
      "source": [
        "In the above we plotted the conditional volatilities of both models. We can the that the volatilies s1 (aapl) that the DCC an BEKK models produce are quite smilar, althought the volatility from the DCC model seems to have a higher peak around 2001. In terms of volatilies s2 (djia) the opposite happens where the BEKK model seems to have a higher peak since the spike is not even present in the DCC model. Also note that the BEKK model seems to produce volatilities slightly higher than the DCC model is both asssets. When comparing the volatilities of both assets we can see that aapl seems to have a much higher peak then djia around the year 2000, this is probably due to the .com bubble that affected mainly tech companies. \r\n",
        "\r\n",
        "In terms of the correlation coeffient produced by both models we can see that the results obtained for the BEKK model behave quite erradically, fluctuating much more than the correlations produced by the DCC model. Also, the BEKK model is the only one that produces negative values of volatility. "
      ]
    },
    {
      "cell_type": "markdown",
      "metadata": {
        "id": "h3-VgcWTO7EH"
      },
      "source": [
        "##5.a)"
      ]
    },
    {
      "cell_type": "code",
      "metadata": {
        "colab": {
          "base_uri": "https://localhost:8080/"
        },
        "id": "NGuxeinrgmWl",
        "outputId": "3eeddbc7-f7be-451f-bf48-3c503168801b"
      },
      "source": [
        "import statsmodels.regression.linear_model as srl\n",
        "def EngleFTest(y1, y2, s1, s2, rho, name):\n",
        "  z1 = y1/s1  #z1, z2 -> standardized residuals\n",
        "  z2 = (y2/s2 - rho*y1/s1)/np.sqrt(1-rho**2)\n",
        "  num_lags = 5\n",
        "  regressors = np.zeros((3*num_lags, z1.size))\n",
        "  for i in range(num_lags):\n",
        "    regressors[i*3] = (z1**2).shift(i+1)\n",
        "    regressors[i*3+1] = (z2**2).shift(i+1)\n",
        "    regressors[i*3+2] = (z1*z2).shift(i+1)\n",
        "  regressors = regressors.transpose()\n",
        "  regressors = sm.add_constant(regressors)\n",
        "  print(name, ': z1')\n",
        "  res = sm.OLS(z1**2, regressors, missing='drop').fit()\n",
        "  print(res.f_pvalue)\n",
        "  print(name, ': z2')\n",
        "  res = sm.OLS(z2**2, regressors, missing='drop').fit()\n",
        "  print(res.f_pvalue)\n",
        "  \n",
        "EngleFTest(y1, y2, s_dcc['s1 (DCC)'], s_dcc['s2 (DCC)'], rho_dcc, 'DCC')\n",
        "EngleFTest(y1, y2, s1_bekk, s2_bekk, rho_bekk, 'BEKK')"
      ],
      "execution_count": null,
      "outputs": [
        {
          "output_type": "stream",
          "text": [
            "DCC : z1\n",
            "0.782957405465678\n",
            "DCC : z2\n",
            "0.011873892208732384\n",
            "BEKK : z1\n",
            "0.8995454499017463\n",
            "BEKK : z2\n",
            "1.5576721987935561e-28\n"
          ],
          "name": "stdout"
        }
      ]
    },
    {
      "cell_type": "markdown",
      "metadata": {
        "id": "eSrocAAjO-hK"
      },
      "source": [
        "To test the fit of both the DCC and BEKK models we use the test described in Engle(2002). This specific test outlined in equation (39) is a test for  autocorrelation of the squared standardized\r\n",
        "residuals. \r\n",
        "\r\n",
        "The test is computed as an $F$ test from the regression of z1\r\n",
        "and z2, on five lags of the squares and cross products of the\r\n",
        "standardized residuals plus an intercept. \r\n",
        "\r\n",
        "In the paper they reject the null hypothesis whenever the p value is smaller than $0.05$. For this case they have analyzed the effectiveness of the method on several different random processes with different conditional volatilities.\r\n",
        "\r\n",
        "The DCC model seems has a p-value of around $0.78$ so we do not reject the hyphotesis that (the first component of) the squared standardized residuals of AAPL have no autocorrelation, while it has a p-value of less than $0.02$ for DJIA so we reject the null-hyphotesis for the second component. However at the 1% level we do not reject the null hypothesis.\r\n",
        "\r\n",
        "The BEKK model seems to have a p-value $0.90$ so we do not reject the hyphotesis that the squared standardized residuals of AAPL have no autocorrelation while it has a p-value of far less than $0.01$ for DJIA so we reject the null-hyphotesis both at the 5% and 1% level.\r\n",
        "\r\n",
        "So at a the $5\\%$ level we can say that there is evidence of remaining time varying volatilities on the squared standardized residuals of DJIA after fitting both models. \r\n",
        "\r\n",
        "When looking at autocorrelation in the squared standardized residuals of AAPL both models seem to be a good fit. But the DCC model can be said to be better because the null hypothesis of there not being any more autocorrelation is not rejected at the 1% significance level."
      ]
    },
    {
      "cell_type": "markdown",
      "metadata": {
        "id": "OVCA94AvO-t-"
      },
      "source": [
        "#5.b)"
      ]
    },
    {
      "cell_type": "code",
      "metadata": {
        "id": "ZTuEyIWCwvwg",
        "colab": {
          "base_uri": "https://localhost:8080/"
        },
        "outputId": "61f4c0d0-5eff-425b-e3de-cd75200a96e2"
      },
      "source": [
        "import statsmodels.regression.linear_model as srl\n",
        "def EngleVaRTest(y1, y2, s1, s2, rho, name):\n",
        "  w = 1/2\n",
        "  var = 1.65 * np.sqrt(w ** 2 * (s1 ** 2) + (1-w) ** 2 * (s2 ** 2)  + 2 * w * (1-w) * rho * s1 * s2)\n",
        "  hit = (w*y1+(1-w)*y2 < -var)-0.5\n",
        "  num_lags = 5\n",
        "  regressors = np.zeros((num_lags + 1, hit.size))\n",
        "  regressors[0] = var\n",
        "  for i in range(1,num_lags):\n",
        "    regressors[i] = hit.shift(i)\n",
        "  regressors = regressors.transpose()\n",
        "  regressors = sm.add_constant(regressors)\n",
        "  print(name, ': h')\n",
        "  res = sm.OLS(hit, regressors, missing='drop').fit()\n",
        "  print(res.f_pvalue)\n",
        "  \n",
        "EngleVaRTest(y1, y2, s_dcc ['s1 (DCC)'], s_dcc ['s2 (DCC)'], rho_dcc, 'DCC')\n",
        "EngleVaRTest(y1, y2, s1_bekk, s2_bekk, rho_bekk, 'BEKK')"
      ],
      "execution_count": null,
      "outputs": [
        {
          "output_type": "stream",
          "text": [
            "DCC : h\n",
            "0.16221770204362712\n",
            "BEKK : h\n",
            "0.00014603298386383422\n"
          ],
          "name": "stdout"
        }
      ]
    },
    {
      "cell_type": "markdown",
      "metadata": {
        "id": "k5Y7kS3gPUDO"
      },
      "source": [
        "The third performance measure is about calculating value at risk for a portfolio with $\\frac{1}{2}$\r\n",
        "invested in the first asset and $\\frac{1}{2}$ in the second. The hit variable is the indicator function of the portfolio value being smaller than -var.\r\n",
        "\r\n",
        "We perform an $F$ test of the hypothesis that all coefficients as well\r\n",
        "as the intercept are zero in a regression of the hit variable on five lags of its past and on current Var (and a constant).\r\n",
        "\r\n",
        "From the resulting p-values we can see that the DCC model produces about a p-value of around $0.16$, so we do not reject the null-hyphotesis at a $5\\%$ level. On the other hand, the results produced by the BEKK model indicate a p-value of less than $0.01$ so we do reject the null hyphotesis that all coefficients of this regression are zero. \r\n",
        "\r\n",
        "Overall, when it comes do this performance test, the DCC model performs better than the BEKK model because in the case of DCC we do not reject the null hypothesis of the estimator fully explaining the VaR while in the case of BEKK we do reject that null hypothesis."
      ]
    },
    {
      "cell_type": "code",
      "metadata": {
        "id": "swbV7WYNLNiw"
      },
      "source": [
        ""
      ],
      "execution_count": null,
      "outputs": []
    }
  ]
}