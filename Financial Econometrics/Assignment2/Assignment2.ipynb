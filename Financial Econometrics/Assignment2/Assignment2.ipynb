{
 "cells": [
  {
   "cell_type": "markdown",
   "metadata": {},
   "source": [
    "# Assignment 2: Time variation in correlations\n",
    "\n",
    "**Deadline**: Sunday 14 March, 23:59.\n",
    "\n",
    "Your notebook should not give errors when executed with `Run All`. Please submit your answers via [Canvas](https://canvas.uva.nl/courses/14457/assignments/104274).\n",
    "\n",
    "|**Name**|**Student ID**|**Email**|\n",
    "|:-------|:-------------|:--------|\n",
    "|        |              |         |\n",
    "|        |              |         |\n",
    "\n",
    "\n",
    "****Hand in the following:****\n",
    "* Your notebook. N.B. **click on `Kernel`-> `Restart & Run All`** before submitting, see notes.\n",
    "* A (printed) pdf version of your notebook. Tip: you can use `nbconvert` ([user guide](https://nbconvert.readthedocs.io/en/latest/)) for this, or simply print the webpage to pdf.\n",
    "\n",
    "****NOTES****:\n",
    "* The assignment is a partial stand-in for a final examination, so the usual rules regarding plagiarism and fraud apply, with all attendant consequences. Code found on the internet or elsewhere is not acceptable as a solution.\n",
    "* Before submitting your work, **click on `Kernel`-> `Restart & Run All`** and verify that your notebook produces the desired results and does not error.\n",
    "* If your function uses random numbers, then set the seed to 0 before calling it. This makes it much easier to grade the assignments (at least as long as the answer is correct).\n",
    "\n",
    "\n",
    "**Declaration of Originality**:\n",
    "\n",
    "By submitting these answers, we declare that\n",
    "1. We have read and understood the notes above.\n",
    "2. These solutions are solely our own work.\n",
    "3. We have not made these solutions available to any other student.\n",
    "\n"
   ]
  },
  {
   "cell_type": "markdown",
   "metadata": {},
   "source": [
    "---"
   ]
  },
  {
   "cell_type": "markdown",
   "metadata": {},
   "source": [
    "## Data\n",
    "\n",
    "Download daily *adjusted closing prices* on the Dow Jones Industrial Average (DJIA, symbol `^DJI` in Yahoo Finance), and *one* of its constituent stocks, for the period 02/01/2000$-$26/02/2021, from Yahoo Finance using `pandas-datareader`. \n",
    "Below is a list of tickers of the DJIA constituents, excluding those with missing data over the sample ([source](https://finance.yahoo.com/quote/%5EDJI/components?p=%5EDJI))."
   ]
  },
  {
   "cell_type": "code",
   "execution_count": null,
   "metadata": {},
   "outputs": [],
   "source": [
    "tickers = [\"AAPL\", \"AMGN\", \"AXP\", \"BA\", \"CAT\", \"CSCO\", \"CVX\", \"DIS\", \"GS\", \n",
    "            \"HD\", \"HON\", \"IBM\", \"INTC\", \"JNJ\", \"JPM\", \"KO\", \"MCD\", \"MMM\", \n",
    "            \"MSFT\", \"NKE\", \"PG\", \"TRV\", \"UNH\", \"VZ\", \"WBA\",\"WMT\"]"
   ]
  },
  {
   "cell_type": "markdown",
   "metadata": {},
   "source": [
    "## Questions\n",
    "\n",
    "The assignment is to select one stock out of the constituents, and analyse the time-varying correlation of its daily return with the Dow Jones index daily returns, based on a DCC model and a BEKK model. Create the daily logreturns of the stock you selected (`y1`), and create the Dow Jones daily logreturns (`y2`).\n",
    "\n",
    "1. As a first step in building a DCC model, select and estimate suitable (univariate) GARCH models for `y1` and `y2`. That is, choose a specification for the conditional mean and conditional variance, estimate and test it, and extend the specification if necessary. <br>\n",
    "    Report the estimated final models, and some misspecification test to indicate the quality of the models. Avoid printing entire tables of correlograms and $Q$-statistics; only a few statistics with $p$-values, for a number of different lag lengths, will suffice. <br>\n",
    "    Next, construct the variance series and standardized residuals from the two models. Also, construct the conditional standard deviations (=volatilities) as the square roots of the variance series (`s1` and `s2`).\n",
    "\n",
    "2. Estimate the DCC model using R's `rmgarch` package. Check whether the estimates of the DCC parameters $\\alpha$ and $\\beta$ are positive; if not, try different starting values or numerical optimization settings.\n",
    "\n",
    "3. Estimate a BEKK model using R's `mgarchBEKK` package.\n",
    "\n",
    "4. Compare the volatilities and correlations (`rho`) of the two methods in line graphs. Do the two methods produce comparable outcomes? What are the main differences?\n",
    "\n",
    "5. Now test the adequacy of the two correlation estimates `rho_dcc` and `rho_bekk` (together with the corresponding volatility\n",
    "estimates), in two different ways.\n",
    "\n",
    "    1. Construct a test as indicated under equation (39) in Engle (2002). That is, construct the standardised errors `z1 = y1/s1` and `z2 = (y2/s2 - rho*y1/s1)/np.sqrt(1-rho^2)`, and run a regression of the square of `z2` on lagged squares and cross-products of `z1` and `z2`. Report the result of an $F$-test for the hypothesis that all coefficients in this regression are zero, for the two different choices of (`s1`, `s2`, `rho`). Which of the two alternative correlation models performs best in this test?\n",
    "\n",
    "    2. Construct a test as indicated under equations (40)$-$(41) in Engle (2002). That is, construct the 5% Value at Risk series for an equal-weighted portfolio ($w=\\frac{1}{2}$) from the volatilities and correlations, calculate the corresponding hit series, and run a regression of this hit on a constant, its own lags and the current VaR. Report again the result of an $F$-test that all coefficients are zero, for the two different methods. Which procedure performs best now?"
   ]
  },
  {
   "cell_type": "markdown",
   "metadata": {},
   "source": [
    "## References\n",
    "\n",
    "* Engle, R. (2002). Dynamic conditional correlation: A simple class of multivariate generalized autoregressive conditional heteroskedasticity models, *Journal of Business & Economic Statistics, 20*(3), 339-350. [[Link](https://www.jstor.org/stable/1392121?seq=1#page_scan_tab_contents)]"
   ]
  }
 ],
 "metadata": {
  "kernelspec": {
   "display_name": "Python 3",
   "language": "python",
   "name": "python3"
  },
  "language_info": {
   "codemirror_mode": {
    "name": "ipython",
    "version": 3
   },
   "file_extension": ".py",
   "mimetype": "text/x-python",
   "name": "python",
   "nbconvert_exporter": "python",
   "pygments_lexer": "ipython3",
   "version": "3.6.5"
  }
 },
 "nbformat": 4,
 "nbformat_minor": 2
}
