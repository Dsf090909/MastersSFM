{
 "cells": [
  {
   "cell_type": "markdown",
   "metadata": {},
   "source": [
    "# Assignment 1: GARCH modelling\n",
    "\n",
    "**Deadline**: Sunday 21 February, 23.59.\n",
    "\n",
    "Your notebook should run withouth errors when executed with `Run All`. Please submit your answers via [Canvas](https://canvas.uva.nl/courses/21917/assignments/197851).\n",
    "\n",
    "|**Name**|**Student ID**|**Email**|\n",
    "|:-------|:-------------|:--------|\n",
    "|        |              |         |\n",
    "|        |              |         |\n",
    "\n",
    "\n",
    "****Hand in the following:****\n",
    "* Your notebook. N.B. **click on `Kernel`, then `Restart & Run All`** before submitting, see notes.\n",
    "* A (printed) pdf version of your notebook. Tip: you can use `nbconvert` ([user guide](https://nbconvert.readthedocs.io/en/latest/)) for this, or simply print the webpage to pdf.\n",
    "\n",
    "****NOTES****:\n",
    "* The assignment is a partial stand-in for a final examination, so the usual rules regarding plagiarism and fraud apply, with all attendant consequences. Code found on the internet or elsewhere is not acceptable as a solution.\n",
    "* Before submitting your work, **click on `Kernel`, then `Restart & Run All`** and verify that your notebook produces the desired results and does not error.\n",
    "* If your function uses random numbers, then set the seed to 0 before calling it. This makes it much easier to grade the assignments (at least as long as the answer is correct).\n",
    "\n",
    "\n",
    "**Declaration of Originality**:\n",
    "\n",
    "By submitting these answers, we declare that\n",
    "1. We have read and understood the notes above.\n",
    "2. These solutions are solely our own work.\n",
    "3. We have not made these solutions available to any other student.\n",
    "\n"
   ]
  },
  {
   "cell_type": "markdown",
   "metadata": {},
   "source": [
    "---"
   ]
  },
  {
   "cell_type": "markdown",
   "metadata": {},
   "source": [
    "## Introduction\n",
    "\n",
    "This is an assignment about the selection, estimation, testing and Monte Carlo simulation of GARCH models for daily stock index returns. "
   ]
  },
  {
   "cell_type": "markdown",
   "metadata": {},
   "source": [
    "#### FTSE data\n",
    "\n",
    "First download data on the FTSE 100 index for the period January 1, 1998 $-$ January 29, 2021, from Yahoo Finance using `pandas-datareader` ([example](https://pydata.github.io/pandas-datareader/devel/remote_data.html#remote-data-yahoo) and [function reference](https://pydata.github.io/pandas-datareader/devel/readers/yahoo.html)).\n",
    "\n",
    "*Hint*:  use `'%5EFTSE%3FP%3DFTSE'` as ticker symbol. Using `'^FTSE'` doesn't work, likely this is because of some labeling/referencing issue within Yahoo Finance."
   ]
  },
  {
   "cell_type": "markdown",
   "metadata": {},
   "source": [
    "#### GARCH in Python\n",
    "\n",
    "Make sure that the `arch` package is installed before importing it. It holds functionality to estimate GARCH models.\n",
    "\n",
    "Uncomment the next line to install. Note: `!` executes shell commands."
   ]
  },
  {
   "cell_type": "code",
   "execution_count": 1,
   "metadata": {},
   "outputs": [],
   "source": [
    "#!conda install arch -y -c bashtage"
   ]
  },
  {
   "cell_type": "markdown",
   "metadata": {},
   "source": [
    "## Questions\n",
    "\n",
    "1. Use the theory explained in the book and the lecture notes to select, estimate and test an empirical ARMA-GARCH model for the daily log-returns (in percentages: $r_t = 100 \\cdot \\Delta \\log P_t$). Report on your findings, paying attention to the following elements:\n",
    "    \n",
    "    1. Testing for autocorrelation in the returns: is there any need for ARMA terms, and if so, what would be useful order $p$ and $q$ to start with?\n",
    "\n",
    "    2. Testing for volatility clustering: what type of ARCH or GARCH model would be suitable?\n",
    "\n",
    "    3. Estimation and testing of a selected ARMA-GARCH model. Do the standardised residuals behave as homoskedastic white noise, according to the available tests? Have you taken appropriate account of possible asymmetry in the news impact curve? Is the standard normal distribution appropriate for the standardised residuals, or would it be better to use another distribution?\n",
    "\n",
    "    4. If any of the tests under 1.C indicate room for improvement, then adapt or extend the model, and check wether the revised model passes the tests.\n",
    "\n",
    "    5. Make a plot of the estimated volatility from your final model, and also make a graph of the estimated news impact curve.\n",
    "    \n",
    "    \n",
    "2. Use the model estimated under 1, and the resulting residual $\\hat{a}_{T}$ and estimated volatility $\\hat{\\sigma}_{T}$ for **January 29, 2021**, to simulate the conditional distribution of the index return over the following 21 trading days (about a month). You will have to simulate the daily returns $r_{T+1},\\ldots ,r_{T+21}$, to obtain a simulation of total monthly return $r[21]_{T+21}=\\sum_{t=1}^{21}r_{T+t}$. The function `simulation` provides a starting point for such an analysis, but you will have to complete the program with the information from your empirical analysis in the first part. After completing the program, analyse the outcomes and report on your findings, paying attention to the following:\n",
    "\n",
    "    1. What is the standard deviation of the monthly return? Is this what you would expect from the average daily standard deviation of the returns over the last 21 years? If not, can you give an explanation for the difference? <br> [*Note*: an approximation of the $n$-period (average) volatility is $\\sqrt{n}$ times the 1-period (average) volatility; this approximation is based on the assumption of uncorrelated returns.]\n",
    "\n",
    "    2. What is the shape of the distribution of the monthly returns? Does it display skewness and/or excess kurtosis? Can you explain these findings from the model you have used for the simulations?\n",
    "\n",
    "    3. It may be of interest to experiment a little with the effect of different parameter values on the outcomes under A. and B.; for example, you could compare the results with and without asymmetric (leverage) effects. Also you could choose another month (corresponding to other $r_{T}$, $\\hat{a}_{T}$ and $\\hat{\\sigma}_{T}$ to start the simulation), and compare the result.    "
   ]
  },
  {
   "cell_type": "markdown",
   "metadata": {},
   "source": [
    "---"
   ]
  },
  {
   "cell_type": "code",
   "execution_count": null,
   "metadata": {},
   "outputs": [],
   "source": [
    "import numpy as np\n",
    "def simulation(params, rT, aT, sT, R=2000, m=22):\n",
    "    '''\n",
    "    Simulating the distribution of a monthly return from a daily ARMA-GARCH model.\n",
    "    \n",
    "    Notes: \n",
    "    * Need to fill in an expression for s2 and r depending on the model for the conditional volatility and mean.\n",
    "    * The program is applicable if only one lag / starting value is needed, e.g. ARMA(1,1)-GARCH(1,1); \n",
    "      for higher-order models the program needs adjustment.\n",
    "        \n",
    "    INPUT\n",
    "    -----\n",
    "    params: parameter vector (both mean and volatility parameters) from ARMAResults\n",
    "    \n",
    "    R: number of replications\n",
    "    m: number of trading days in a month (~21 days), plus one starting value (change this if more starting values are needed)\n",
    "    \n",
    "    Starting values (if more lags are involved, then more values from January 2020 are needed)\n",
    "    rT: the daily return at time of forecasting\n",
    "    aT: the residual at time of forecasting\n",
    "    sT: the estimated volatility at time of forecasting\n",
    "     \n",
    "    \n",
    "    OUTPUT\n",
    "    ------\n",
    "    monthreturn: array with R simulated monthly returns\n",
    "    \n",
    "    '''\n",
    "\n",
    "    # Define variables\n",
    "    r = np.zeros(m+1)  # daily returns\n",
    "    a = np.zeros(m+1)  # disturbances\n",
    "    s2 = np.zeros(m+1)  # conditional variance\n",
    "    epsilon = np.zeros(m+1)  # standardized disturbances\n",
    "    monthreturn = np.zeros(R)  # monthly return\n",
    "           \n",
    "    # Initialising various variables at the relevant starting values\n",
    "    r[0] = rT\n",
    "    a[0] = aT\n",
    "    s2[0] = sT**2\n",
    "    epsilon[0] = aT / sT\n",
    "\n",
    "    # Draw R times the monthly return according to the ARMA-GARCH specification\n",
    "    for rep in range(R):\n",
    "        # use random number generator from other distribution for epsilon if necessary\n",
    "        epsilon[1:] = np.random.randn(m)\n",
    "        \n",
    "        # use estimated GARCH equation, expressing conditional variance s2 in terms of s2[h-1] and epsilon[h-1]\n",
    "        for h in range(1,m):\n",
    "            # EGARCH(1,1)\n",
    "            s2[h] = \n",
    "        \n",
    "        a[1:] = np.sqrt(s2[1:])*epsilon[1:]\n",
    "        \n",
    "        # use estimated ARMA equation, expressing r in terms of a and possibly r[h-1] and/or a[h-1]\n",
    "        for h in range(1,m):\n",
    "            r[h] = \n",
    "            \n",
    "        monthreturn[rep] = sum(r[1:])\n",
    "        \n",
    "    return monthreturn"
   ]
  }
 ],
 "metadata": {
  "kernelspec": {
   "display_name": "Python 3",
   "language": "python",
   "name": "python3"
  },
  "language_info": {
   "codemirror_mode": {
    "name": "ipython",
    "version": 3
   },
   "file_extension": ".py",
   "mimetype": "text/x-python",
   "name": "python",
   "nbconvert_exporter": "python",
   "pygments_lexer": "ipython3",
   "version": "3.6.5"
  }
 },
 "nbformat": 4,
 "nbformat_minor": 2
}
